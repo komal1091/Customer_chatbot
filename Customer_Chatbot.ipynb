{
 "cells": [
  {
   "cell_type": "code",
   "execution_count": 27,
   "metadata": {},
   "outputs": [],
   "source": [
    "import os\n",
    "import openai\n",
    "from langchain.document_loaders import TextLoader\n",
    "from langchain.embeddings.openai import OpenAIEmbeddings\n",
    "from langchain.text_splitter import CharacterTextSplitter\n",
    "from langchain.vectorstores import FAISS\n"
   ]
  },
  {
   "cell_type": "code",
   "execution_count": 29,
   "metadata": {},
   "outputs": [
    {
     "data": {
      "text/plain": [
       "True"
      ]
     },
     "execution_count": 29,
     "metadata": {},
     "output_type": "execute_result"
    }
   ],
   "source": [
    "from dotenv import load_dotenv\n",
    "load_dotenv()"
   ]
  },
  {
   "cell_type": "code",
   "execution_count": 30,
   "metadata": {},
   "outputs": [],
   "source": [
    "# os.environ[\"OPENAI_API_KEY\"] = \"sk-proj-5HIMqYMAxjsJDdPmxzm7T3BlbkFJifATym3GXlDPYSmS2AMu\""
   ]
  },
  {
   "cell_type": "code",
   "execution_count": 31,
   "metadata": {},
   "outputs": [],
   "source": [
    "def load_and_process_files(file_paths):\n",
    "    all_documents = []\n",
    "    for file_path in file_paths:\n",
    "        loader = TextLoader(file_path)\n",
    "        documents = loader.load()\n",
    "        all_documents.extend(documents)\n",
    "    return all_documents\n"
   ]
  },
  {
   "cell_type": "code",
   "execution_count": 32,
   "metadata": {},
   "outputs": [
    {
     "name": "stdout",
     "output_type": "stream",
     "text": [
      "Loaded document content: [Document(page_content='Introduction of Static Websites: Static Websites are the best options for you to start a website in the easiest way. I explained many myths about static websites and how they work. Above all static websites are highly dynamic. Static websites are highly recommended and are suitable for the biggest projects. The codes that are needed to start the static websites don’t change and you can run the codes anywhere you want.\\nDetails About Static Websites: Jekyll or Hugo\\xa0is the best option to develop static websites. Using these two options the\\xa0Forestry CMS\\xa0provides the best static websites.\\nExamples of Static Websites: Websites that contain stable contents that are displayed using web pages are known as the static website. Here all pages are encrypted using HTML and those WebPages displays provide the same information to all visitors. Dynamic websites require much web design but the static website doesn’t require any web design. That’s why static is the very basic type of website which is very easy to create.\\nConclusion: Static Website/Webpage is otherwise known as a flat page. According to Wikipedia, A static website is a web page that can provide exactly all stored information to users. A static web page is a kind of only way to publish the contents on the internet on the lead to CGI. Most of the network originators are way too familiar with static web pages.\\nJekyll or Hugo: The reason why you should go for a static website is mainly because of the security they have. There are many website development companies all around the world among the\\xa0\\nWebsites that contain stable contents: provides you with better security and they uses encrypted HTML to display webpages. So that you can attain more reliability and speed while using search engines.\\nThe reason why you should go for a static website: , the programmers who used to design static web pages are very experienced and they work for big teams. This is the best quantity they have in their designing company. By working as a team they can easily exchange their designing knowledge to their fellow workers. So it is very easy for them to design websites using encrypted HTML codes.\\xa0\\nIn Tihalt Technologies: In the early stage of the internet, static websites are the only sites that can be consistent. The first initial static website was created on August 6, 1991.\\nIn the early stage of the internet: Static websites are created to display the same information to every person using their web pages. This is the main reason for the creation of static websites. But nowadays the users on the internet have grown extremely so\\xa0Tihalt\\xa0Technologies\\xa0is developing a vast amount of static websites to avoid network traffic.\\nStatic websites are created to display: Static websites are built and maintained using static site generators. The Static web site generators fundamentals are very simple and easy. The static website generators take in vital content and designs and output static HTML, CSS, Javascript files, etc.\\nStatic websites are built and maintained: Static Sites Generators are used globally throughout the world. And there are more than hundreds of static website generators are used literally.\\nMost of the Static site generators have many common qualities and they are as follows:\\nMost of the Static site generators: Most of the static website uses more than one templating languages and this act as a key part of building a layout theme in our static website. Example: liquid, handlebars, etc.Static website generator uses more than one lightweight markup language which makes the static website easier to write any content using pro editors. Example: Markdown, AsciiDoc, etc.Static website generators run through several command line provided by the developer. Though it runs via several commands it has become more complex to add GUI in these website generators. Example: Terminal or command prompt\\nExamples of Static Websites: The website development company in Bangalore\\xa0encrypts the static website page using HTML codes and provides you the excellent service in all ways.\\xa0Tihalt Technologies\\xa0uses these static generators to develop and maintain static websites to avoid network traffic.\\nThe static websites use HTML webpages: Examples of Static Websites\\nHTML architecture generator: The major examples of static websites are as follows:\\nThere are many static websites CMS: DocumentationDeveloping CacheWebsite presentationCommunication cache-scrapping bufferFormsNewsletter ContentsDisaster pageRecovery from disaster statusLanding page/scalesBlogs.\\nWYSIWYG is an app that allows: \\xa0websites in an easier and simplest way. The most usual example of a static website is to develop a webpage in the absence of a rear-end. Blogs, documentation, and website designing are the most regular usage of static websites. By using generators or scratch the writing of Blogs and documentation becomes easy.\\nMeanwhile, site leaf CMS: The static websites use HTML webpages as their cache to avoid usual data traffic and to improve the performance of the website. Some examples showcase the exportation of dynamic content into static webpages.\\nPublii is a website developing app: HTML architecture generator is still used by craigslist which means if an existing user adds or updates the content within the respective website; the disk will show a new HTML fine as opposed to the dynamic website.\\nDato CMS is similar to Site leaf CMS: Tihalt Technologies\\xa0has many partnering companies among them\\xa0the best website developing company\\xa0provides description too many products available on static websites.\\nJekyll or Hugo is the best option: During Holidays, Christmas, summer vacation, and black Friday the traffic was on its peak and it’s become a nightmare and bliss to the DevOps. So the salespersons use static websites to tackle this situation and use those websites as their main landing page or sales banners.\\nStatic Websites are the best options: Newspapers, Sports results, Historical events, newsletters change its content day by day unlike this there are some HTML webpages that do not change its content.\\nWebsites that contain stable contents: There are many static websites CMS across the globe. This static website CMS uses a static website generator to generate its content. Among them, five CMS is considered to be the best. They are as follows:\\nThe major examples of static websites: Netlify CMSSite Leaf CMSPublii CMSDato CMSForestry CMS\\nDuring Holidays, Christmas, summer vacation: WYSIWYG is an app that allows the non-existing users to add or update the contents on a static website.\\xa0Netlify, with the help of this app and Static website generators, updates its content. Thus\\xa0Netlify\\xa0acts as an open-source of tool to update static web pages.\\nNewspapers, Sports results, Historical events: Meanwhile,\\xa0site leaf CMS\\xa0uses\\xa0API\\xa0as a source to update and integrate its content within the website. A clean admin interface can be provided by this CMS.\\nThere are many static websites CMS: Publii\\xa0is a website developing app used by desktop users to develop static websites rapidly and in a well-organized manner.\\nConclusion: Dato CMS\\xa0is similar to\\xa0Site leaf CMS. It also uses API to provide an admin interface. It amalgamated with all the static site generators. Also using this\\xa0Dato CMS\\xa0you attain the freedom to advertise your provoked website wherever you want.\\n', metadata={'source': '/home/codezeros/Documents/beautifulsoup/output/output.txt'}), Document(page_content=\"Leveraging AI in Ecommerce: Benefits, Tools, and Tips\\nWhile AI may be everywhere these days, the use of AI in ecommerce transcends mere trend. Its diverse applications range from enhancing product searches to tailoring personal recommendations and even to automation in customer support. With the explosion of AI over the past few years, these benefits can sometimes get lost in AI’s novelty.\\nThat's where we come in. In this guide, we’ll deconstruct the roles, benefits, and applications of artificial intelligence in ecommerce. We'll also spotlight some leading ecommerce AI tools and explore future trends so you can leverage AI effectively, translating this technological innovation into measurable business success.\\nWhen we say artificial intelligence (AI), a few things might spring to mind — perhaps efficient autonomous robots, self-driving cars, or smart personal assistants like Alexa and Siri. But at its core, AI is simply about systems or machines that mimic human intelligence. This encompasses learning (acquiring information and rules for using it), reasoning (using these rules to reach approximate or specific conclusions), and self-correction.\\nGiven the current digital boom and the shift in consumer shopping behavior, more and more businesses are leveraging AI to respond to market changes effectively and to keep a competitive edge.\\nAI fits into the ecommerce industry by helping retailers automate processes, offer personalized customer experiences, and make data-driven decisions. AI makes it possible for ecommerce businesses to recommend products to customers based on a number of factors like their previous purchase history or search data.\\nFurther, AI chatbots for ecommerce and customer service automation are moving stride for stride with human-based interaction, allowing businesses to provide cutting-edge customer support, even with minimal hands on deck. When a customer has a query or issue, these AI-based systems can step in, saving time and resources and potentially leading to happier customers.\\nAs we get into the technology that drives AI in the ecommerce world, two terms often come to the forefront: machine learning and generative AI.\\nMachine learning falls under the AI umbrella and is based on the idea that systems can learn from gathered data to identify patterns and make decisions independently. When applied to ecommerce, machine learning algorithms enable powerful capabilities such as product recommendations based on customer behavior or predicting trends to optimize inventory management.\\nGenerative AI, on the other hand, is a branch of AI that involves systems capable of creating content like images, texts, or even music. In ecommerce, this technology can be applied to generate product descriptions, manage customer inquiries more efficiently, and even predict customer needs based on behavior patterns.\\nAs you can imagine, both machine learning and generative AI can have a far-reaching impact on an ecommerce operation. For instance, an appropriately trained machine learning algorithm could sift through vast amounts of data to identify critical shopping trends or anticipate periods of high demand. Similarly, leveraging generative AI could lead to highly personalized customer interactions, creating an efficient and seamless online shopping experience.\\nAside from machine learning and generative AI, ecommerce businesses often turn to chatbots, natural language processing (NLP), and data analytics tools to enhance their operations. AI tools can automate customer support interactions, provide insights into customer preferences, and streamline mundane tasks that would otherwise consume considerable time and resources.\\nIn the big picture, the technology powering AI in ecommerce is about a lot more than just convenience. It's about leveraging advanced tech solutions to understand, anticipate, and cater to customer needs, ultimately enhancing the shopping experience while optimizing business operations in a very real, very impactful way.\\nAI is more than the next big thing in ecommerce. It's a powerful tool that provides tangible benefits for your business and your customers. Let's delve into some key benefits.\\nImproved customer experience\\nOne of the most significant impacts of AI in ecommerce is how it can enhance the customer experience, ensuring shoppers come back for more. Through personalization, AI can suggest products that align with a customer's previous purchases or browsing behavior. Think of it as a highly effective personal shopping assistant who knows each customer's preferences and can guide them through product selection.\\nAdditionally, many AI platforms provide real-time assistance to customers through AI chatbots or virtual assistants, addressing queries or concerns immediately and increasing customer satisfaction.\\nEnhancements in sales and marketing strategies\\nAI can also assist with sales and marketing strategies. With the ability to analyze vast quantities of data, AI enables you to offer personalized product recommendations, driving up sell and cross-sell opportunities while predictive marketing and remarketing efforts can be significantly enhanced with AI. By using machine learning to analyze past behaviors and patterns, AI can predict future trends or preferences, helping businesses to craft proactive marketing campaigns.\\nIn a similar way, AI can play a crucial role in remarketing by making it easier to connect with customers who have previously shown interest in specific products or services, encouraging them to complete their purchase.\\nEfficiency in business processes\\nAI can also play a role in streamlining business operations, allowing you to increase efficiency while reducing costs. For example, in logistics and warehouse management, AI can optimize delivery routes or manage inventory, reducing waste and saving time. It can also be instrumental in fighting ecommerce fraud by using pattern recognition to detect and prevent suspicious activities, giving you and your customers peace of mind.\\nBy deciphering patterns and making data-based predictions, AI opens up an array of opportunities for retailers to boost their operations and customer experience. Let's explore some of the key ways AI is used in ecommerce.\\nPersonalization and product recommendations\\nOne of the primary applications of AI in ecommerce is personalization. AI-powered systems can significantly improve customer experience by providing personalized product recommendations. By analyzing a customer's shopping history and behavior, these systems can suggest items the customer might find interesting, thereby increasing the chances of a purchase.\\nImproved search features\\nAI can greatly enhance search features on ecommerce platforms. Through natural language processing and image recognition, AI makes search results more accurate and relevant. Consumers can even conduct visual searches for products and get results that closely match their uploaded images.\\nOptimization of product descriptions\\nAI systems can be instrumental in optimizing product descriptions. Through generative AI, businesses can automate the creation of unique, SEO-friendly product descriptions. This not only saves considerable time but also helps improve visibility on search engines.\\nDynamic pricing strategies\\nWith AI, retailers can deploy dynamic pricing strategies that consider various factors such as demand, competitor prices, and user behavior. AI algorithms can enable you to make real-time pricing adjustments to optimize sales and profits.\\nAI in customer support\\nAI has several applications when it comes to customer support. For starters, AI-powered chatbots can handle routine customer inquiries, saving time for human agents to tackle more intricate issues. Additionally, AI-powered tools can assist agents by providing them with customer information and relevant solutions during a support call. With features like automated tagging, routing, and suggested responses, AI plays a crucial role in streamlining customer support operations.\\nCustomer behavior analysis and data analytics\\nAI tools make it easy to sift through vast amounts of customer data to extract insights about shopping habits and preferences. These insights can inform business strategies, from marketing campaigns to product development. Furthermore, AI can automate data analytics and reporting, making it easier for companies to keep track of key performance metrics.\\nHelp Scout\\nBest ecommerce AI tool for human-centric customer support.\\nHelp Scout is a customer communications platform designed to help you have better conversations with your customers. We believe in integrating AI into our platform in a thoughtful (and intentional) way, using the features not to replace your support team but to enhance the valuable work they already do.\\nHelp Scout has three main AI features:\\nAI summarize is a feature that uses natural language processing to digest lengthy conversation threads and highlight key information. This saves agents time, allowing them to read a few quick bullets to get caught up with a conversation vs. having to wade through lengthy email threads.\\nAI assist is a writing tool that is available in Help Scout’s inbox and knowledge base editors. It helps your team improve their writing by handling tasks like altering the length or tone of their text to better fit the needs of the situation. It can also help check copy for spelling and grammar errors or translate it into another language. \\nAI drafts (powered by SupportAgent.ai) uses machine and generative AI technologies to automatically draft replies based on customer queries and articles in your knowledge base. This feature gives your team a head start on every conversation, helping reduce response time and improve the consistency of their replies.\\nBeyond our AI features, we also have other tools that can help you better engage with your customers. Beacon, our messaging widget, can help you deliver proactive support or send targeted messages to certain segments of your customer base. Another type of message, microsurveys, can help you reach out for feedback from customers during key points in the customer journey. \\nFinally, we also offer Docs, a user-friendly knowledge base solution. Display answers to FAQs in a customizable help center, or let customers browse them from your website or app using a Beacon.\\nPrice: Free trial available. Plans with AI start at $40/user per month. Details on SupportAgent.ai pricing can be found here.\\nClickUp\\nClickUp is a productivity platform which houses your work documents, tasks, conversations, goals, and more. ClickUp’s goal is to eliminate the need for tons of different tools and provide a central workspace for teams.\\nClickUp AI is the platform's AI-powered assistant. Using AI, you can easily generate summaries for task updates, comments, meeting notes, and more as well as create action items and subtasks based on your existing tasks and docs. The platform also uses AI to improve your writing, save your team time with pre-structured headers and tables, and brainstorm everything from event planning to feature naming.\\nPrice: Free trial available. Plans start at $7/user per month. ClickUp AI is available for an additional $5/user per month.\\nDescript\\nBest ecommerce AI tool for creating and editing audio/video content.\\nDescript is a collaborative audio/video editing software that combines traditional media editing and advanced transcription technology.\\nThe platform utilizes AI algorithms for automatic and highly accurate transcription capabilities, turning spoken words into searchable and editable text. Another standout feature is Overdub, an AI-driven voice synthesizer that can generate a realistic copy of any voice based on a sample. This can save your team hours creating seamless voiceovers and reducing the need for re-recordings.\\nPrice: Free trial available. Plans start at $12/user per month.\\n4. ViSenze\\nBest ecommerce AI tool for on-site search and product discovery.\\nViSenze is an AI software for ecommerce that aids in search and product discovery. By integrating visual search and image recognition APIs, ViSenze seeks to transform the way shoppers discover and interact with merchandise online.\\nThe platform's AI-powered visual search engine enables customers to discover products simply by taking or uploading an image. Additionally, ViSenze’s automated product tagging feature uses deep learning to identify and tag products within an image, streamlining inventory management and enhancing recommendation accuracy. There's also an AI-driven personalization feature that customizes product recommendations based on individual user behavior, creating a personalized shopping experience.\\nPrice: Contact for pricing.\\n5. Barilliance\\nBest ecommerce AI tool for personalized online shopping experiences.\\nBarilliance enables your team to deliver personalized omnichannel ecommerce experiences. The platform focuses on increasing your bottom line through more sales, increased conversions, and customer retention.\\nPrice: Contact for pricing.\\nThe AI Product Recommendation tool uses machine learning algorithms to learn from user behavior to predict a shopper’s next purchase for real-time personalization. Barilliance also uses predictive AI to identify customers who might abandon their carts, triggering automated and timely recovery emails. Additionally, the platform uses AI to calculate and forecast customer lifetime value, enabling more targeted marketing and retention strategies.\\nPrice: Contact for pricing.\\nAI continues to grow in its influence in the ecommerce sector, and that growth is likely to continue. Key trends suggest that AI will continue to facilitate personalized shopping experiences.\\nWe're also likely to see more businesses using AI to identify and understand customer issues faster and more accurately. There's potential to use natural language processing to detect disappointed customers, urgent issues, or specific product complaints from mountains of customer interactions.\\nAs AI continues to make its mark, you can prepare your ecommerce business by investing time to understand how to integrate AI without losing the personal human touch at the heart of your relationship with your customers.\\nAs AI becomes more widely used, it's important to understand that the technology is there to assist, not replace, the human touch. AI should enhance the customer experience, making it more personal, efficient, and — ultimately — rewarding for your customers and your business.\\nWould you like to see how AI can be integrated into your own customer support operations? Start a free trial of Help Scout today and explore the possibilities for yourself.\\n\", metadata={'source': '/home/codezeros/Documents/beautifulsoup/output/ai_for_ecommerce.txt'}), Document(page_content=\"AI powered ticketing systems are tools that leverage AI to help customer service teams handle requests more efficiently while also reducing strain on human agents. The AI component often handles routine tasks like sorting and routing conversations.\\xa0\\nDepending on the specific tool, it may also be able to do things like summarize conversations to help get reps up to speed on an issue quickly or offer writing assistance to change the tone of a response, shorten it, or lengthen it.\\xa0\\xa0\\nEven though there are some variants in capability between different AI ticketing tools, there are a few key benefits those who invest in the technology generally see:\\xa0\\nFaster response times — AI helps improve response times by doing things like suggesting answers for reps, offering writing assistance, and summarizing conversations.\\xa0\\nLess strain on human reps — Repetitive, routine tasks like sorting and assigning tickets can be a drain on human agents and is something AI can take off their plates, giving them more time to do what they do best: help customers.\\xa0\\nHigher customer satisfaction — Faster response times and access to more robust self-service tools like AI chatbots can improve the overall experience of interacting with support, leading to more satisfied customers.\\xa0\\nMost of these gains come from AI’s ability to augment human agents' abilities as well as remove routine, repetitive tasks that can slow reps down.\\xa0\\nHelp Scout is a complete customer communication platform that gives teams access to the tools they need to deliver outstanding customer experiences. When you sign up you get access to an omnichannel shared inbox, a knowledge base builder, messaging, and AI tools.\\xa0\\nThe AI summarize feature helps get reps up to speed quickly by summarizing long conversations into bullet points. There’s also AI assist, which helps agents write even better responses. It can shorten or lengthen a response, update the tone, and check grammar and spelling. Last, AI drafts can actually write an entire response to a request based on past conversations and content in your help center.\\xa0\\nAlong with the AI features there are also a host of other ways to help your team be more efficient and reduce strain on human agents. Things like saved replies help agents respond to common questions quickly. There’s also collision detection, which shows when another agent is working on a request to help avoid duplicate work. On top of those, there are also workflows, which let you automate routine tasks based on the conditions you set.\\xa0\\nPrice: Free trial available. Plans including AI features start at $44/user per month.\\nSysAid\\nBest AI ticketing software for IT teams.\\nIf you’re an IT team looking for an AI-powered ticketing system, then SysAid is one to consider. You can automate workflows and tasks like prioritizing, assigning, and sorting requests. There’s also generative writing features that help agents write responses to requests.\\xa0\\nWith SysAid, you can also offer things like SLAs for multiple organizations as well as self-service customer portals. They also have a number of prebuilt ITIL templates teams can use to get up and running quickly.\\xa0\\nPrice: Contact for pricing.\\xa0\\nIntercom\\nBest AI ticketing software for targeted messaging.\\nIntercom started off mostly as a chat and pop-up messaging tool but has added more support capabilities over the years. Their core AI feature is an AI agent called Fin. Fin is trained on your own help documentation and is able to interact with customers directly.\\xa0\\nThrough Fin they also offer agent assist features. For example, Fin can suggest answers for requests based on previous conversations or surface relevant help center articles to share. You can also set up custom ticket sorting and assign workflows.\\xa0\\nPrice: Free trial available. Plans start at $39/seat per month. AI features are available at additional cost; check the Intercom pricing page for more details.\\nFreshdesk\\nBest AI ticketing software for call centers.\\nFreshdesk is a longtime help desk software that is generally associated with call center settings due to its phone support features. They’ve also recently added AI features with their Freddy AI tool. The AI capabilities basically span three areas: self-service, agent assistance, and analytics.\\xa0\\nTheir self-service features center around AI chatbots and are mostly meant to handle more basic requests. Along with chatbots they also have agent assist features that do things like suggest next steps for a request and give writing assistance. Last, they have Freddy Insights, which analyzes request trends to give you additional insights and tools to better serve your customers.\\xa0\\nPrice: Free trial and plan available. Paid plans start at $15/agent per month. AI features come at an additional cost and not all features are available across all plans.\\nZendesk\\nBest AI ticketing software for fully virtual agents.\\nZendesk is a well-known help desk tool that has added a number of AI-powered features in recent years. They offer AI agent capabilities, which are essentially bots that can respond to certain requests.\\xa0\\nAlong with their virtual AI agents, they also have some AI features that assist agents when responding to requests. AI can offer suggested answers and actions as well as detect the tone of a request to better prepare agents when responding. The platform also has AI knowledge base tools that can help detect knowledge gaps and analytics features to provide additional insights.\\nPrice: Free trial available. Plans start at $19/agent per month. AI features are not available across all plans and may come at an additional cost.\\nZoho Desk\\nBest AI ticketing software for Zoho users.\\nMany people may be aware of Zoho for their flagship CRM tool, but they’ve been making customer service software, called Zoho Desk, for a good number of years, too. Zoho Desk has a lot of expected help desk features like a shared inbox and knowledge base builder. However, they also have an AI tool called Zia.\\xa0\\nZia can do things like suggest answers to agents based on knowledge base articles you have. It can also share notifications with you any time there’s unusual activity on a request. Further, Zia can be used as a chatbot to interact directly with customers, auto-tag tickets, and do sentiment analysis on conversations.\\xa0\\nPrice: Free plan available. Paid plans start at $7/user per month. Plans with AI start at $40/user per month.\\nTidio\\nBest AI ticketing software for small teams.\\nThough Tidio has been around for almost 10 years, they’re not as well known as others on the list. They make help desk software and have a few interesting AI features. The first is an AI chatbot called Lyro. It can handle requests on its own, but agents have the option to monitor those conversations in real time and take over if needed.\\xa0\\nThey also have a feature called FAQ Wizard, which uses your existing help content to build out response flows to common questions. Further, there are some agent assist tools like their reply assistant tool that do things like correct grammar in responses.\\nPrice: Free plan available. Paid plans start at $29 per month. Lyro AI chatbot plans start at $39 per month.\\nHiver\\nBest AI ticketing software for Gmail users\\nThe best way to describe Hiver is as an overlay for Gmail. Basically, it gives you help desk capabilities in Gmail, letting you do things like assign conversations and set up custom queues. They’ve even recently added some AI functionality to the tool.\\xa0\\xa0\\nSimilar to others on the list, it can summarize messages and offer suggestions for responses (though it is currently limited to suggesting preexisting templates). You can also use AI to auto-close tickets with a thank-you note.\\xa0\\nPrice: Free trial available. Plans start at $19/user per month. Plans with AI features start at $49/user per month.\\nAs it is with most tech, there are some variants in functionality between different AI ticketing software. Depending on your team and specific needs, some more niche features might be well-suited to you. That said, there are a handful of core features we think are non-negotiable and should be on your list when looking for an AI ticket solution.\\xa0\\nAgent assistance\\nWe think one of the most powerful things AI can do is augment all the incredible skills your human agents already have. Seek out options with things like writing assistants, the ability to summarize conversations, or capability to surface articles and suggest responses. All of those features help agents respond faster and expend less energy while doing so.\\xa0\\nTask automation\\xa0\\nThere’s a lot of customer support work that is repetitive and predictable. Those tasks like sorting and assigning requests can be a drain on human agents, but they’re no problem for AI. Look for options that let you automate those more mundane tasks.\\xa0\\nSelf-service capabilities\\xa0\\nAs anyone working in support knows, there are some really common questions where the answer never changes. Though you probably have a knowledge base customers could look through, having something like an AI chatbot tends to be a better experience. If you’re a team that gets a high volume of routine questions about things like return policies or the like, it’s probably worth finding options with AI chatbots or AI autoresponders.\\nAI may have exploded onto the scene, but it doesn’t seem like it’ll be a flash in the pan. Though there are limitations to its capabilities, there’s no denying that AI is now at a place where it can provide real value to both customer support professionals and the people they serve.\\xa0\\nLook for options that augment human agents' natural abilities and take over tedious tasks that can hold staff back from doing their best work. If you’re ready to step into the AI ticketing world, consider signing up for a 15-day free trial of Help Scout here.\\n\", metadata={'source': '/home/codezeros/Documents/beautifulsoup/output/ai_ticketing.txt'})]\n"
     ]
    }
   ],
   "source": [
    "file_paths = [\n",
    "    \"/home/codezeros/Documents/beautifulsoup/output/output.txt\",\n",
    "    \"/home/codezeros/Documents/beautifulsoup/output/ai_for_ecommerce.txt\", \n",
    "    \"/home/codezeros/Documents/beautifulsoup/output/ai_ticketing.txt\"\n",
    "    ]\n",
    "\n",
    "raw_data = load_and_process_files(file_paths)\n",
    "\n",
    "print(\"Loaded document content:\", raw_data)"
   ]
  },
  {
   "cell_type": "code",
   "execution_count": 33,
   "metadata": {},
   "outputs": [
    {
     "name": "stdout",
     "output_type": "stream",
     "text": [
      "Number of documents: 3\n"
     ]
    }
   ],
   "source": [
    "text_splitter = CharacterTextSplitter(chunk_size=1000, chunk_overlap=200)  \n",
    "documents = text_splitter.split_documents(raw_data)\n",
    "print(f\"Number of documents: {len(documents)}\")"
   ]
  },
  {
   "cell_type": "code",
   "execution_count": 34,
   "metadata": {},
   "outputs": [],
   "source": [
    "embedding = OpenAIEmbeddings()\n",
    "db = FAISS.from_documents(documents, embedding)\n"
   ]
  },
  {
   "cell_type": "code",
   "execution_count": 35,
   "metadata": {},
   "outputs": [],
   "source": [
    "def get_recommendations(query, db, k=3):\n",
    "    # Perform a similarity search\n",
    "    docs = db.similarity_search(query, k=k)  # Retrieve top k matches\n",
    "\n",
    "    # Verify that the documents are retrieved\n",
    "    print(f\"Retrieved {len(docs)} documents for query: {query}\")\n",
    "\n",
    "    # Extract the best matching lines or sentences\n",
    "    relevant_sentences = []\n",
    "    for doc in docs:\n",
    "        content = doc.page_content\n",
    "        sentences = content.split('.')  # Split by period to get individual sentences\n",
    "        for sentence in sentences:\n",
    "            if query.lower() in sentence.lower():\n",
    "                relevant_sentences.append(sentence.strip())\n",
    "\n",
    "    # Combine the relevant sentences or pick the best one based on relevance\n",
    "    if relevant_sentences:\n",
    "        # Example heuristic: Choose the sentence that is most relevant to the query\n",
    "        best_sentence = max(relevant_sentences, key=lambda s: len(s))  # Or use a more advanced scoring method\n",
    "    else:\n",
    "        best_sentence = \"No relevant sentence found.\"\n",
    "\n",
    "    return best_sentence\n"
   ]
  },
  {
   "cell_type": "code",
   "execution_count": 26,
   "metadata": {},
   "outputs": [],
   "source": [
    "# def chatbot():\n",
    "#     print(\"Welcome to the Personalized Content Recommendation System!\")\n",
    "#     print(\"Chatbot: How can I assist you?\")\n",
    "#     while True:\n",
    "#         user_input = input(\"You: \")\n",
    "#         if user_input.lower() in ['exit']:\n",
    "#             print(\"Chatbot: Goodbye!\")\n",
    "#             break\n",
    "#         elif user_input.lower() == 'hello':\n",
    "#             print(\"Chatbot: How can I help you?\")\n",
    "            \n",
    "#         else:\n",
    "#             response = get_recommendations(user_input, db)\n",
    "#             print(f\"Chatbot: {response}.\")\n",
    "\n",
    "# # Run the chatbot\n",
    "# if __name__ == \"__main__\":\n",
    "#     chatbot()\n"
   ]
  },
  {
   "cell_type": "code",
   "execution_count": 17,
   "metadata": {},
   "outputs": [],
   "source": [
    "# def get_recommendations(query, db, k=3):\n",
    "#     # Perform a similarity search\n",
    "#     docs = db.similarity_search(query, k=k)  # Retrieve top k matches\n",
    "\n",
    "#     # Verify that the documents are retrieved\n",
    "#     print(f\"Retrieved {len(docs)} documents for query: {query}\")\n",
    "\n",
    "#     # Extract the best matching lines or sentences\n",
    "#     relevant_sentences = []\n",
    "#     for doc in docs:\n",
    "#         content = doc.page_content\n",
    "#         sentences = content.split('.')  # Split by period to get individual sentences\n",
    "#         for sentence in sentences:\n",
    "#             if query.lower() in sentence.lower():\n",
    "#                 relevant_sentences.append(sentence.strip())\n",
    "\n",
    "#     # Combine the relevant sentences or pick the best one based on relevance\n",
    "#     if relevant_sentences:\n",
    "#         # Example heuristic: Choose the sentence that is most relevant to the query\n",
    "#         best_sentence = max(relevant_sentences, key=lambda s: len(s))  # Or use a more advanced scoring method\n",
    "#     else:\n",
    "#         best_sentence = \"No relevant sentence found.\"\n",
    "\n",
    "#     return best_sentence\n",
    "\n",
    "\n",
    "# def chatbot():\n",
    "#     print(\"Welcome to the Personalized Content Recommendation System!\")\n",
    "#     print(\"Chatbot: How can I assist you?\")\n",
    "#     while True:\n",
    "#         user_input = input(\"You: \")\n",
    "#         if user_input.lower() in ['exit']:\n",
    "#             print(\"Chatbot: Thank you Goodbye!\")\n",
    "#             break\n",
    "#         elif user_input.lower() == 'hello':\n",
    "#             print(\"You: Hello\")\n",
    "#             print(\"Chatbot: How can I help you?\")\n",
    "#         else:\n",
    "#             response = get_recommendations(user_input, db)  # Pass an empty dict or the actual db\n",
    "#             print(f\"You: {user_input}\")\n",
    "#             print(f\"Chatbot: {response}\")\n",
    "\n",
    "# # Run the chatbot\n",
    "# if __name__ == \"__main__\":\n",
    "#     chatbot()\n",
    "\n"
   ]
  },
  {
   "cell_type": "code",
   "execution_count": 39,
   "metadata": {},
   "outputs": [
    {
     "name": "stdout",
     "output_type": "stream",
     "text": [
      "Welcome to Customer Support Chatbot!\n",
      "Chatbot: Hello! How can I assist you?\n",
      "User: hii\n",
      "Chatbot: Hello! How can I help you today?\n",
      "User: what is webclues\n",
      "Chatbot: WebClues is a digital solutions company that provides services in website and mobile app development, digital marketing, and other technology solutions. They work with businesses of various sizes to help them enhance their online presence and drive growth through digital means.\n",
      "User: what is webclues\n",
      "Chatbot: WebClues is a global software development company that specializes in providing web and mobile app development services. They offer a wide range of services such as custom software development, e-commerce development, and digital marketing solutions. WebClues has a team of experienced developers and designers who work with businesses to create unique and innovative digital solutions to meet their specific needs.\n",
      "User: give ve brief\n",
      "Chatbot: I'm here to help! How can I assist you today?\n",
      "User: give me brief\n",
      "Chatbot: Of course! How can I assist you today?\n",
      "User: Thank you. Goodbye!\n"
     ]
    }
   ],
   "source": [
    "\n",
    "\n",
    "def get_recommendations(query, db, k=3):\n",
    "    response = openai.ChatCompletion.create(\n",
    "        model=\"gpt-3.5-turbo\",\n",
    "        messages=[\n",
    "            {\"role\": \"system\", \"content\": \"You are a helpful assistant.\"},\n",
    "            {\"role\": \"user\", \"content\": query}\n",
    "        ]\n",
    "    )\n",
    "    # Extract the response content\n",
    "    best_sentence = response['choices'][0]['message']['content']\n",
    "    return best_sentence\n",
    "\n",
    "def chatbot():\n",
    "    print(\"Welcome to Customer Support Chatbot!\")\n",
    "    print(\"Chatbot: Hello! How can I assist you?\")\n",
    "    while True:\n",
    "        user_input = input(\"User: \")\n",
    "        if user_input.lower() in ['exit']:\n",
    "            print(\"User: Thank you. Goodbye!\")\n",
    "            break\n",
    "        elif user_input.lower() == 'hello':\n",
    "            print(\"User: Hello\")\n",
    "            print(\"Chatbot: How can I help you?\")\n",
    "        else:\n",
    "            response = get_recommendations(user_input, db={})  # db is not used in the current implementation\n",
    "            print(f\"User: {user_input}\")\n",
    "            print(f\"Chatbot: {response}\")\n",
    "\n",
    "# Run the chatbot\n",
    "if __name__ == \"__main__\":\n",
    "    chatbot()\n",
    "\n",
    "\n"
   ]
  },
  {
   "cell_type": "code",
   "execution_count": 48,
   "metadata": {},
   "outputs": [
    {
     "ename": "ImportError",
     "evalue": "cannot import name 'AIMessage' from 'langchain_core.memory' (/home/codezeros/Documents/beautifulsoup/soup/lib/python3.8/site-packages/langchain_core/memory.py)",
     "output_type": "error",
     "traceback": [
      "\u001b[0;31m---------------------------------------------------------------------------\u001b[0m",
      "\u001b[0;31mImportError\u001b[0m                               Traceback (most recent call last)",
      "Cell \u001b[0;32mIn[48], line 2\u001b[0m\n\u001b[1;32m      1\u001b[0m \u001b[38;5;28;01mfrom\u001b[39;00m \u001b[38;5;21;01mlangchain\u001b[39;00m\u001b[38;5;21;01m.\u001b[39;00m\u001b[38;5;21;01mmemory\u001b[39;00m \u001b[38;5;28;01mimport\u001b[39;00m ChatMessageHistory\n\u001b[0;32m----> 2\u001b[0m \u001b[38;5;28;01mfrom\u001b[39;00m \u001b[38;5;21;01mlangchain_core\u001b[39;00m\u001b[38;5;21;01m.\u001b[39;00m\u001b[38;5;21;01mmemory\u001b[39;00m \u001b[38;5;28;01mimport\u001b[39;00m AIMessage, UserMessage\n\u001b[1;32m      3\u001b[0m \u001b[38;5;28;01mimport\u001b[39;00m \u001b[38;5;21;01mjson\u001b[39;00m\n\u001b[1;32m      5\u001b[0m chat_history \u001b[38;5;241m=\u001b[39m ChatMessageHistory()\n",
      "\u001b[0;31mImportError\u001b[0m: cannot import name 'AIMessage' from 'langchain_core.memory' (/home/codezeros/Documents/beautifulsoup/soup/lib/python3.8/site-packages/langchain_core/memory.py)"
     ]
    }
   ],
   "source": [
    "from langchain.memory import ChatMessageHistory\n",
    "from langchain_core.memory import AIMessage, UserMessage\n",
    "import json\n",
    "\n",
    "chat_history = ChatMessageHistory()\n",
    "\n",
    "\n",
    "chat_history.add_user_message(\"what is webclues\")\n",
    "chat_history.add_ai_message(\"WebClues is a software development company that offers services in website development, mobile app development, e-commerce solutions, digital marketing, and more. They provide custom solutions tailored to meet the specific needs of their clients. With a team of experienced developers and designers, WebClues aims to deliver high-quality digital solutions to help businesses achieve their goals.\")\n",
    "chat_history.add_user_message(\"Thank you\")\n",
    "\n",
    "\n",
    "print(chat_history.messages)"
   ]
  },
  {
   "cell_type": "code",
   "execution_count": null,
   "metadata": {},
   "outputs": [],
   "source": [
    "def serialize_chat_history(history):\n",
    "    serialized_messages = []\n",
    "    for message in history.messages:\n",
    "        if isinstance(message, UserMessage):\n",
    "            serialized_messages.append({\"role\": \"user\", \"content\": message.content})\n",
    "        elif isinstance(message, AIMessage):\n",
    "            serialized_messages.append({\"role\": \"assistant\", \"content\": message.content})\n",
    "    return serialized_messages\n",
    "\n",
    "# Serialize the chat history\n",
    "serialized_history = serialize_chat_history(chat_history)\n",
    "\n",
    "# Save the serialized chat history to a file\n",
    "with open(\"chat_history.json\", \"w\") as f:\n",
    "    json.dump(serialized_history, f, indent=4)\n",
    "\n",
    "print(\"Chat history saved to chat_history.json\")"
   ]
  },
  {
   "cell_type": "code",
   "execution_count": null,
   "metadata": {},
   "outputs": [],
   "source": []
  },
  {
   "cell_type": "code",
   "execution_count": null,
   "metadata": {},
   "outputs": [],
   "source": []
  },
  {
   "cell_type": "code",
   "execution_count": null,
   "metadata": {},
   "outputs": [],
   "source": []
  },
  {
   "cell_type": "code",
   "execution_count": null,
   "metadata": {},
   "outputs": [],
   "source": []
  },
  {
   "cell_type": "code",
   "execution_count": 43,
   "metadata": {},
   "outputs": [
    {
     "ename": "ImportError",
     "evalue": "cannot import name 'AIMessage' from 'langchain.memory' (/home/codezeros/Documents/beautifulsoup/soup/lib/python3.8/site-packages/langchain/memory/__init__.py)",
     "output_type": "error",
     "traceback": [
      "\u001b[0;31m---------------------------------------------------------------------------\u001b[0m",
      "\u001b[0;31mImportError\u001b[0m                               Traceback (most recent call last)",
      "Cell \u001b[0;32mIn[43], line 2\u001b[0m\n\u001b[1;32m      1\u001b[0m \u001b[38;5;28;01mimport\u001b[39;00m \u001b[38;5;21;01mopenai\u001b[39;00m\n\u001b[0;32m----> 2\u001b[0m \u001b[38;5;28;01mfrom\u001b[39;00m \u001b[38;5;21;01mlangchain\u001b[39;00m\u001b[38;5;21;01m.\u001b[39;00m\u001b[38;5;21;01mmemory\u001b[39;00m \u001b[38;5;28;01mimport\u001b[39;00m ChatMessageHistory, AIMessage, UserMessage\n\u001b[1;32m      4\u001b[0m \u001b[38;5;66;03m# Initialize the chat history\u001b[39;00m\n\u001b[1;32m      5\u001b[0m chat_history \u001b[38;5;241m=\u001b[39m ChatMessageHistory()\n",
      "\u001b[0;31mImportError\u001b[0m: cannot import name 'AIMessage' from 'langchain.memory' (/home/codezeros/Documents/beautifulsoup/soup/lib/python3.8/site-packages/langchain/memory/__init__.py)"
     ]
    }
   ],
   "source": [
    "import openai\n",
    "from langchain.memory import ChatMessageHistory, AIMessage, UserMessage\n",
    "\n",
    "# Initialize the chat history\n",
    "chat_history = ChatMessageHistory()\n",
    "\n",
    "def get_recommendations(history, k=3):\n",
    "    # Prepare the messages list for the OpenAI API\n",
    "    messages = [{\"role\": \"system\", \"content\": \"You are a helpful assistant.\"}]\n",
    "    \n",
    "    # Convert the history messages to the required format\n",
    "    for message in history.messages:\n",
    "        if isinstance(message, UserMessage):\n",
    "            messages.append({\"role\": \"user\", \"content\": message.content})\n",
    "        elif isinstance(message, AIMessage):\n",
    "            messages.append({\"role\": \"assistant\", \"content\": message.content})\n",
    "    \n",
    "    response = openai.ChatCompletion.create(\n",
    "        model=\"gpt-3.5-turbo\",\n",
    "        messages=messages\n",
    "    )\n",
    "    # Extract the response content\n",
    "    best_sentence = response['choices'][0]['message']['content']\n",
    "    return best_sentence\n",
    "\n",
    "def chatbot():\n",
    "    print(\"Welcome to Customer Support Chatbot!\")\n",
    "    print(\"Chatbot: Hello! How can I assist you?\")\n",
    "    chat_history.add_ai_message(\"Hello! How can I assist you?\")\n",
    "    \n",
    "    while True:\n",
    "        user_input = input(\"User: \")\n",
    "        \n",
    "        if user_input.lower() in ['exit']:\n",
    "            print(\"User: Thank you. Goodbye!\")\n",
    "            chat_history.add_user_message(\"Thank you. Goodbye!\")\n",
    "            break\n",
    "        elif user_input.lower() == 'hello':\n",
    "            print(\"User: Hello\")\n",
    "            print(\"Chatbot: How can I help you?\")\n",
    "            chat_history.add_user_message(\"Hello\")\n",
    "            chat_history.add_ai_message(\"How can I help you?\")\n",
    "        else:\n",
    "            chat_history.add_user_message(user_input)\n",
    "            response = get_recommendations(chat_history)\n",
    "            print(f\"Chatbot: {response}\")\n",
    "            chat_history.add_ai_message(response)\n",
    "\n",
    "# Run the chatbot\n",
    "if __name__ == \"__main__\":\n",
    "    chatbot()\n"
   ]
  },
  {
   "cell_type": "code",
   "execution_count": null,
   "metadata": {},
   "outputs": [],
   "source": []
  },
  {
   "cell_type": "code",
   "execution_count": null,
   "metadata": {},
   "outputs": [],
   "source": []
  },
  {
   "cell_type": "code",
   "execution_count": null,
   "metadata": {},
   "outputs": [],
   "source": [
    "import openai\n",
    "\n",
    "openai.api_key = \"sk-proj-5HIMqYMAxjsJDdPmxzm7T3BlbkFJifATym3GXlDPYSmS2AMu\"\n",
    "response = openai.ChatCompletion.create(\n",
    "  model=\"gpt-3.5-turbo\",  \n",
    "  messages=[\n",
    "    {\"role\": \"system\", \"content\": \"You are a helpful assistant.\"},\n",
    "    {\"role\": \"user\", \"content\": \"Tell me pricing for ecommerce.\"}\n",
    "  ]\n",
    ")\n",
    "print(response['choices'][0]['message']['content'])\n"
   ]
  },
  {
   "cell_type": "code",
   "execution_count": null,
   "metadata": {},
   "outputs": [],
   "source": []
  },
  {
   "cell_type": "code",
   "execution_count": null,
   "metadata": {},
   "outputs": [],
   "source": []
  }
 ],
 "metadata": {
  "kernelspec": {
   "display_name": "soup",
   "language": "python",
   "name": "python3"
  },
  "language_info": {
   "codemirror_mode": {
    "name": "ipython",
    "version": 3
   },
   "file_extension": ".py",
   "mimetype": "text/x-python",
   "name": "python",
   "nbconvert_exporter": "python",
   "pygments_lexer": "ipython3",
   "version": "3.8.10"
  }
 },
 "nbformat": 4,
 "nbformat_minor": 2
}
